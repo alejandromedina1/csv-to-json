{
 "cells": [
  {
   "cell_type": "code",
   "execution_count": 1,
   "id": "8e771382",
   "metadata": {},
   "outputs": [],
   "source": [
    "#Import pandas library\n",
    "import pandas as pd"
   ]
  },
  {
   "cell_type": "code",
   "execution_count": 3,
   "id": "501eb694",
   "metadata": {},
   "outputs": [
    {
     "name": "stdout",
     "output_type": "stream",
     "text": [
      "CSV file has been converted into a JSON and it has been saved succesfully as file.json!\n"
     ]
    }
   ],
   "source": [
    "#Change \"encuesta.csv\" for your .csv file (You should add it to the folder)\n",
    "df = pd.read_csv('encuesta.csv')\n",
    "\n",
    "json_data = df.to_json(orient='records')\n",
    "\n",
    "#The .JSON file is going to be saved as \"file.json\"\n",
    "with open('file.json', 'w') as json_file:\n",
    "    json_file.write(json_data)\n",
    "\n",
    "print(\"CSV file has been converted into a JSON and it has been saved succesfully as file.json!\")"
   ]
  },
  {
   "cell_type": "code",
   "execution_count": null,
   "id": "6938e799",
   "metadata": {},
   "outputs": [],
   "source": []
  }
 ],
 "metadata": {
  "kernelspec": {
   "display_name": "Python 3 (ipykernel)",
   "language": "python",
   "name": "python3"
  },
  "language_info": {
   "codemirror_mode": {
    "name": "ipython",
    "version": 3
   },
   "file_extension": ".py",
   "mimetype": "text/x-python",
   "name": "python",
   "nbconvert_exporter": "python",
   "pygments_lexer": "ipython3",
   "version": "3.9.13"
  }
 },
 "nbformat": 4,
 "nbformat_minor": 5
}
